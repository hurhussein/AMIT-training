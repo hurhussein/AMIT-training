{
 "cells": [
  {
   "cell_type": "code",
   "execution_count": 3,
   "id": "1d81b220",
   "metadata": {},
   "outputs": [
    {
     "name": "stdout",
     "output_type": "stream",
     "text": [
      "enter frist num55\n",
      "enter second num44\n"
     ]
    }
   ],
   "source": [
    "#another solution\n",
    "#sum two numbers \n",
    "num1= input('enter frist num') #input of frist number\n",
    "num2= input('enter second num')#input of second number"
   ]
  },
  {
   "cell_type": "code",
   "execution_count": 2,
   "id": "1c76b78c",
   "metadata": {},
   "outputs": [
    {
     "name": "stdout",
     "output_type": "stream",
     "text": [
      "The sum is:  10\n"
     ]
    }
   ],
   "source": [
    "\n",
    "sum = int(num1) + int(num2) #summation op\n",
    "\n",
    "print(\"The sum is \", sum)# output of summation"
   ]
  },
  {
   "cell_type": "code",
   "execution_count": null,
   "id": "6ae575d7",
   "metadata": {},
   "outputs": [],
   "source": []
  }
 ],
 "metadata": {
  "kernelspec": {
   "display_name": "Python 3",
   "language": "python",
   "name": "python3"
  },
  "language_info": {
   "codemirror_mode": {
    "name": "ipython",
    "version": 3
   },
   "file_extension": ".py",
   "mimetype": "text/x-python",
   "name": "python",
   "nbconvert_exporter": "python",
   "pygments_lexer": "ipython3",
   "version": "3.8.8"
  }
 },
 "nbformat": 4,
 "nbformat_minor": 5
}
