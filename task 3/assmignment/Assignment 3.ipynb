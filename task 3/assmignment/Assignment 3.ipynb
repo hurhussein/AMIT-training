{
 "cells": [
  {
   "cell_type": "markdown",
   "metadata": {},
   "source": [
    "# Assignment 3"
   ]
  },
  {
   "cell_type": "markdown",
   "metadata": {},
   "source": [
    "### Write a function to count the number 4 in a given list."
   ]
  },
  {
   "cell_type": "code",
   "execution_count": 60,
   "metadata": {},
   "outputs": [
    {
     "name": "stdout",
     "output_type": "stream",
     "text": [
      "number 4 is not define\n",
      "number 4 is not define\n",
      "number 4 is not define\n",
      "1\n",
      "2\n",
      "3\n"
     ]
    }
   ],
   "source": [
    "number=[1,44,5,4 ,4,4]#creat list of numbers\n",
    "def count (number):  # creat function\n",
    "    counter=0\n",
    "    for i in number:\n",
    "        if i== 4 :\n",
    "            counter+=1\n",
    "            print(counter)\n",
    "        else:\n",
    "            print('number 4 is not define')\n",
    "\n",
    "count(number)#call the function"
   ]
  },
  {
   "cell_type": "markdown",
   "metadata": {},
   "source": [
    "### write a  function to check whether a number is divisible by another number."
   ]
  },
  {
   "cell_type": "code",
   "execution_count": null,
   "metadata": {},
   "outputs": [],
   "source": [
    "number1=int(input('enter frist number'))\n",
    "number2=int(input('enter second number' )\n",
    "def divisible (number1,number2): # creat function\n",
    "    if number1%number2==0:\n",
    "        print(' number divisible')\n",
    "    else:\n",
    "        print('The number is not divisible')\n",
    "        \n",
    "divisible (number1,number2)#call the function"
   ]
  },
  {
   "cell_type": "markdown",
   "metadata": {},
   "source": [
    "### write a function to find the maximum and minimum numbers from a sequence of numbers."
   ]
  },
  {
   "cell_type": "code",
   "execution_count": null,
   "metadata": {},
   "outputs": [],
   "source": [
    "#first solution by the built-in function\n",
    "list_1=[1,2,3,4,57,89,98,8]\n",
    "\n",
    "print(list_1)\n",
    "def maximum_mininum(list_1): # creat function\n",
    "    print ('maximumu number=',max(list_1))# built-in function [max] & print result\n",
    "    print('minimum number =',min(list_1) )# built-in function [min] & print result\n",
    "maximum_mininum(list_1)call the function#call the function"
   ]
  },
  {
   "cell_type": "code",
   "execution_count": null,
   "metadata": {},
   "outputs": [],
   "source": [
    "#second soultion by function\n",
    "list_1=[1,2,3,4,5,89,98,8]\n",
    "\n",
    "   \n",
    "\n",
    "print(list_1)\n",
    "def maximum_mininum(list_1):# creat function\n",
    "\n",
    "    for i in list_1:\n",
    "         maxx=list_1[0] \n",
    "        \n",
    "         mini=list_1[0]\n",
    "      \n",
    "        \n",
    "        if list_1[i]>maxx:\n",
    "            \n",
    "            \n",
    "            maxx=list_1[i]\n",
    "            \n",
    "            print('max',maxx)\n",
    "            \n",
    "        elif list_1[i]>mini:\n",
    "            \n",
    "            \n",
    "            mini=list_1[i]\n",
    "            \n",
    "        print('mini',mini)\n",
    "            \n",
    "maximum_mininum(list_1#call the function"
   ]
  },
  {
   "cell_type": "markdown",
   "metadata": {},
   "source": [
    "### Write a Python function that takes two lists and returns True if they have at least one common member."
   ]
  },
  {
   "cell_type": "code",
   "execution_count": 13,
   "metadata": {},
   "outputs": [
    {
     "name": "stdout",
     "output_type": "stream",
     "text": [
      "it isn't matched\n",
      "it isn't matched\n",
      "it isn't matched\n",
      "it isn't matched\n",
      "it isn't matched\n",
      "it isn't matched\n",
      "it isn't matched\n",
      "it isn't matched\n",
      "it isn't matched\n",
      "it isn't matched\n",
      "it isn't matched\n",
      "it isn't matched\n",
      "it isn't matched\n",
      "it isn't matched\n",
      "it isn't matched\n",
      "it isn't matched\n",
      "it isn't matched\n",
      "it isn't matched\n",
      "it isn't matched\n",
      "it isn't matched\n",
      "it isn't matched\n",
      "it isn't matched\n",
      "it isn't matched\n",
      "it isn't matched\n",
      "it isn't matched\n",
      "it isn't matched\n",
      "it isn't matched\n",
      "it isn't matched\n",
      "it isn't matched\n",
      "it isn't matched\n",
      "it isn't matched\n",
      "it isn't matched\n",
      "it isn't matched\n",
      "it isn't matched\n",
      "it isn't matched\n",
      "it isn't matched\n",
      "it isn't matched\n",
      "it isn't matched\n",
      "it isn't matched\n",
      "it isn't matched\n",
      "it isn't matched\n",
      "matched\n"
     ]
    }
   ],
   "source": [
    "l_1=[1,2,3,4,5,67,8]\n",
    "l_2=[9,99,88,77,55,8]\n",
    "def check (l_1,l_2): # creat function\n",
    "    for i in l_1:\n",
    "        for j in l_2:\n",
    "            if i==j:\n",
    "                print('matched')\n",
    "            \n",
    "            else :\n",
    "                print ('it isn\\'t matched')\n",
    "check (l_1,l_2)            #call the function"
   ]
  },
  {
   "cell_type": "markdown",
   "metadata": {},
   "source": [
    "Write a Python function to calculate the fc of a number (a non-negative integer). The function accepts the number from the user"
   ]
  },
  {
   "cell_type": "code",
   "execution_count": 19,
   "metadata": {},
   "outputs": [
    {
     "name": "stdout",
     "output_type": "stream",
     "text": [
      "please enter your Number-4\n"
     ]
    },
    {
     "data": {
      "text/plain": [
       "24"
      ]
     },
     "execution_count": 19,
     "metadata": {},
     "output_type": "execute_result"
    }
   ],
   "source": [
    "#frist soultion by function\n",
    "Number=abs(int(input('please enter your Number')))\n",
    "def fact(Number): # creat function\n",
    "    if Number==0 :\n",
    "        return 1\n",
    "    else:\n",
    "        return Number*fact(Number-1)\n",
    "fact(Number)call the function  #call the function"
   ]
  },
  {
   "cell_type": "code",
   "execution_count": null,
   "metadata": {},
   "outputs": [],
   "source": [
    "#second solution by the built-in function\n",
    "import math #import math library\n",
    "\n",
    "Number=abs(int(input('please enter your Number')))\n",
    "\n",
    "print (“The factorial of the number is: “)\n",
    "\n",
    "print (math.factorial (n))"
   ]
  },
  {
   "cell_type": "markdown",
   "metadata": {},
   "source": [
    "### Write a Python function to check whether a number is in a given range.\n",
    "\n",
    "### The range is from 3 to 11\n"
   ]
  },
  {
   "cell_type": "code",
   "execution_count": 26,
   "metadata": {},
   "outputs": [
    {
     "name": "stdout",
     "output_type": "stream",
     "text": [
      "enter  your number55\n",
      "out of range\n",
      "out of range\n",
      "out of range\n",
      "out of range\n",
      "out of range\n",
      "out of range\n",
      "out of range\n",
      "out of range\n",
      "out of range\n"
     ]
    }
   ],
   "source": [
    "number=int(input('enter  your number'))\n",
    "def check_2(number):# creat function\n",
    "    for i in range (3,12):\n",
    "        if i != number:\n",
    "            print('out of range')\n",
    "        else:\n",
    "            print('in range')\n",
    "check_2(number)#call the function"
   ]
  },
  {
   "cell_type": "markdown",
   "metadata": {},
   "source": [
    "### Write a  program to create the multiplication table (from 1 to 10) of a number."
   ]
  },
  {
   "cell_type": "code",
   "execution_count": 31,
   "metadata": {},
   "outputs": [
    {
     "name": "stdout",
     "output_type": "stream",
     "text": [
      "10\n",
      "20\n",
      "30\n",
      "40\n",
      "50\n",
      "60\n",
      "70\n",
      "80\n",
      "90\n",
      "100\n"
     ]
    },
    {
     "data": {
      "text/plain": [
       "10"
      ]
     },
     "execution_count": 31,
     "metadata": {},
     "output_type": "execute_result"
    }
   ],
   "source": [
    " x=10\n",
    "def multiplication_table (x):# creat function\n",
    "    for i in range (1,11):\n",
    "        print(i*x)\n",
    "    return i\n",
    "multiplication_table (x)#call the function"
   ]
  },
  {
   "cell_type": "markdown",
   "metadata": {},
   "source": [
    "#### LESSER OF TWO EVENS: Write a function that returns the lesser of two given numbers *if* both numbers are even, but returns the greater if one or both numbers are odd\n",
    "    lesser_of_two_evens(2,4) --> 2\n",
    "    lesser_of_two_evens(2,5) --> 5"
   ]
  },
  {
   "cell_type": "code",
   "execution_count": 35,
   "metadata": {},
   "outputs": [
    {
     "name": "stdout",
     "output_type": "stream",
     "text": [
      "enter your number4\n",
      "enter your number44\n",
      "both numbers are even\n"
     ]
    }
   ],
   "source": [
    "num1=int(input('enter your number'))\n",
    "num2=int(input('enter your number'))\n",
    "def check_2(num1,num2):# creat function\n",
    "    if num1%2==0 and num2%2==0:\n",
    "        print('both numbers are even')\n",
    "    elif num1%2!=0 or num2%2!=0 :\n",
    "        if(num1>num2):\n",
    "            print ('greater number=',num1)\n",
    "        elif (num2>num1):\n",
    "            print ('greater number=',num2)\n",
    "                   \n",
    "check_2(num1,num2)#call the function"
   ]
  }
 ],
 "metadata": {
  "kernelspec": {
   "display_name": "Python 3",
   "language": "python",
   "name": "python3"
  },
  "language_info": {
   "codemirror_mode": {
    "name": "ipython",
    "version": 3
   },
   "file_extension": ".py",
   "mimetype": "text/x-python",
   "name": "python",
   "nbconvert_exporter": "python",
   "pygments_lexer": "ipython3",
   "version": "3.8.8"
  }
 },
 "nbformat": 4,
 "nbformat_minor": 2
}
