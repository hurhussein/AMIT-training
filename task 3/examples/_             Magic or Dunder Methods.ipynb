{
 "cells": [
  {
   "cell_type": "code",
   "execution_count": 1,
   "id": "fe7a2395",
   "metadata": {},
   "outputs": [],
   "source": [
    "#__init__\n",
    "def __init__(self,names):\n",
    "    if names:\n",
    "        self.names = names.copy()\n",
    "        for name in names:\n",
    "            self.versions[name] = 1\n",
    "    else:\n",
    "        raise Exception(\"Please Enter the names\")"
   ]
  },
  {
   "cell_type": "code",
   "execution_count": null,
   "id": "84e25052",
   "metadata": {},
   "outputs": [],
   "source": [
    "#__str__\n",
    "def __str__(self):\n",
    "    s =\"The current softwares and their versions are listed below: \\n\"\n",
    "    for key,value in self.versions.items():\n",
    "        s+= f\"{key} : v{value} \\n\"\n",
    "    return s"
   ]
  },
  {
   "cell_type": "code",
   "execution_count": 2,
   "id": "883288ee",
   "metadata": {},
   "outputs": [],
   "source": [
    "#__setitem__\n",
    "def __setitem__(self,name,version):\n",
    "    if name in self.versions:\n",
    "        self.versions[name] = version\n",
    "    else:\n",
    "        raise Exception(\"Software Name doesn't exist\")"
   ]
  },
  {
   "cell_type": "code",
   "execution_count": 3,
   "id": "2a4778cf",
   "metadata": {},
   "outputs": [],
   "source": [
    "#__delitem__\n",
    "def __delitem__(self,name):\n",
    "    if name in self.versions:\n",
    "        del self.versions[name]\n",
    "        self.names.remove(name)\n",
    "    else:\n",
    "        raise Exception(\"Software Name doesn't exist\")"
   ]
  },
  {
   "cell_type": "code",
   "execution_count": 4,
   "id": "7dca13fa",
   "metadata": {},
   "outputs": [],
   "source": [
    "#__len__\n",
    "def __len__(self):\n",
    "    return len(self.names)"
   ]
  },
  {
   "cell_type": "code",
   "execution_count": 5,
   "id": "d3cceaf6",
   "metadata": {},
   "outputs": [],
   "source": [
    "#__contains__\n",
    "def __contains__(self,name):\n",
    "    if name in self.versions:\n",
    "        return True\n",
    "    else:\n",
    "        return False"
   ]
  },
  {
   "cell_type": "code",
   "execution_count": null,
   "id": "a6655ba5",
   "metadata": {},
   "outputs": [],
   "source": []
  },
  {
   "cell_type": "code",
   "execution_count": null,
   "id": "03998245",
   "metadata": {},
   "outputs": [],
   "source": []
  }
 ],
 "metadata": {
  "kernelspec": {
   "display_name": "Python 3",
   "language": "python",
   "name": "python3"
  },
  "language_info": {
   "codemirror_mode": {
    "name": "ipython",
    "version": 3
   },
   "file_extension": ".py",
   "mimetype": "text/x-python",
   "name": "python",
   "nbconvert_exporter": "python",
   "pygments_lexer": "ipython3",
   "version": "3.8.8"
  }
 },
 "nbformat": 4,
 "nbformat_minor": 5
}
